{
 "cells": [
  {
   "cell_type": "code",
   "execution_count": 1,
   "metadata": {
    "collapsed": true,
    "ExecuteTime": {
     "end_time": "2024-10-18T07:24:38.849265Z",
     "start_time": "2024-10-18T07:24:38.843542Z"
    }
   },
   "outputs": [],
   "source": [
    "from pathlib import Path"
   ]
  },
  {
   "cell_type": "code",
   "execution_count": 2,
   "outputs": [],
   "source": [
    "LOGS_PATH = Path('/Users/nipun/github//labml_app.log')"
   ],
   "metadata": {
    "collapsed": false,
    "ExecuteTime": {
     "end_time": "2024-10-18T07:24:44.109059Z",
     "start_time": "2024-10-18T07:24:44.096261Z"
    }
   }
  },
  {
   "cell_type": "code",
   "execution_count": 4,
   "outputs": [
    {
     "data": {
      "text/plain": "22471"
     },
     "execution_count": 4,
     "metadata": {},
     "output_type": "execute_result"
    }
   ],
   "source": [
    "uuid = 'c48ac8bc8ccb11efb77ba088c26a9b7a'\n",
    "\n",
    "relevant_logs = []\n",
    "with open(LOGS_PATH, 'r') as file:\n",
    "    for line in file:\n",
    "        if uuid in line:\n",
    "            relevant_logs.append(line)\n",
    "\n",
    "len(relevant_logs)"
   ],
   "metadata": {
    "collapsed": false,
    "ExecuteTime": {
     "end_time": "2024-10-18T07:27:07.152648Z",
     "start_time": "2024-10-18T07:27:05.324408Z"
    }
   }
  },
  {
   "cell_type": "code",
   "execution_count": 12,
   "outputs": [
    {
     "data": {
      "text/plain": "22404"
     },
     "execution_count": 12,
     "metadata": {},
     "output_type": "execute_result"
    }
   ],
   "source": [
    "tracks = []\n",
    "for log in relevant_logs:\n",
    "    if 'api/v1/default/track' in log:\n",
    "        tracks.append(log)\n",
    "\n",
    "len(tracks)"
   ],
   "metadata": {
    "collapsed": false,
    "ExecuteTime": {
     "end_time": "2024-10-18T08:15:31.714984Z",
     "start_time": "2024-10-18T08:15:31.643451Z"
    }
   }
  },
  {
   "cell_type": "code",
   "execution_count": 19,
   "outputs": [
    {
     "data": {
      "text/plain": "'\\x1b[36;21m2024-10-17 21:08:59,594 - LabML logger - INFO - PERF time: 3054.09ms uri: http://3.12.6.103:5005/api/v1/default/track?run_uuid=c48ac8bc8ccb11efb77ba088c26a9b7a&rank=6&main_rank=7&world_size=8&labml_version=0.5.3 method:POST (flask_app.py:110)\\x1b[0m\\n'"
     },
     "execution_count": 19,
     "metadata": {},
     "output_type": "execute_result"
    }
   ],
   "source": [
    "tracks[200]"
   ],
   "metadata": {
    "collapsed": false,
    "ExecuteTime": {
     "end_time": "2024-10-18T08:25:23.549396Z",
     "start_time": "2024-10-18T08:25:23.543525Z"
    }
   }
  },
  {
   "cell_type": "code",
   "execution_count": null,
   "outputs": [],
   "source": [],
   "metadata": {
    "collapsed": false
   }
  }
 ],
 "metadata": {
  "kernelspec": {
   "display_name": "Python 3",
   "language": "python",
   "name": "python3"
  },
  "language_info": {
   "codemirror_mode": {
    "name": "ipython",
    "version": 2
   },
   "file_extension": ".py",
   "mimetype": "text/x-python",
   "name": "python",
   "nbconvert_exporter": "python",
   "pygments_lexer": "ipython2",
   "version": "2.7.6"
  }
 },
 "nbformat": 4,
 "nbformat_minor": 0
}
