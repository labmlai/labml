{
 "cells": [
  {
   "cell_type": "code",
   "id": "59b2c982",
   "metadata": {},
   "source": [
    "from labml.app_api import AppAPI"
   ],
   "outputs": [],
   "execution_count": null
  },
  {
   "cell_type": "code",
   "id": "7a84769a",
   "metadata": {},
   "source": [
    "api = AppAPI(base_url=\"http://localhost:5005/api/v1\")"
   ],
   "outputs": [],
   "execution_count": null
  },
  {
   "cell_type": "code",
   "id": "82a4cb0484ff83de",
   "metadata": {},
   "source": [
    "run = api.get_runs()['runs'][0]"
   ],
   "outputs": [],
   "execution_count": null
  },
  {
   "cell_type": "code",
   "id": "4096fa58",
   "metadata": {},
   "source": [
    "api.get_data_store(run['run_uuid'])"
   ],
   "outputs": [],
   "execution_count": null
  },
  {
   "cell_type": "code",
   "id": "31c59f1dd8d9e401",
   "metadata": {},
   "source": [
    "api.update_data_store(run['run_uuid'], {'foo': 'bar'})"
   ],
   "outputs": [],
   "execution_count": null
  },
  {
   "cell_type": "code",
   "id": "7b287844",
   "metadata": {},
   "source": [
    "api.set_data_store(run['run_uuid'], {'foo': 'bar'})"
   ],
   "outputs": [],
   "execution_count": null
  }
 ],
 "metadata": {
  "kernelspec": {
   "display_name": "labml",
   "language": "python",
   "name": "labml"
  },
  "language_info": {
   "codemirror_mode": {
    "name": "ipython",
    "version": 3
   },
   "file_extension": ".py",
   "mimetype": "text/x-python",
   "name": "python",
   "nbconvert_exporter": "python",
   "pygments_lexer": "ipython3",
   "version": "3.9.18"
  }
 },
 "nbformat": 4,
 "nbformat_minor": 5
}
